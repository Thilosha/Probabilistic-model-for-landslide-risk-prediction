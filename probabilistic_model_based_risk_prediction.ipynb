{
  "nbformat": 4,
  "nbformat_minor": 0,
  "metadata": {
    "colab": {
      "provenance": [],
      "authorship_tag": "ABX9TyMb/20bs+B3uhS4Bufn/X+i",
      "include_colab_link": true
    },
    "kernelspec": {
      "name": "python3",
      "display_name": "Python 3"
    },
    "language_info": {
      "name": "python"
    }
  },
  "cells": [
    {
      "cell_type": "markdown",
      "metadata": {
        "id": "view-in-github",
        "colab_type": "text"
      },
      "source": [
        "<a href=\"https://colab.research.google.com/github/Thilosha/Probabilistic-model-for-landslide-risk-prediction/blob/main/probabilistic_model_based_risk_prediction.ipynb\" target=\"_parent\"><img src=\"https://colab.research.google.com/assets/colab-badge.svg\" alt=\"Open In Colab\"/></a>"
      ]
    },
    {
      "cell_type": "code",
      "execution_count": null,
      "metadata": {
        "colab": {
          "base_uri": "https://localhost:8080/"
        },
        "id": "Nn_9o_eRI1GY",
        "outputId": "c05ef979-3915-4980-fc48-e2f2809fa46b"
      },
      "outputs": [
        {
          "output_type": "stream",
          "name": "stdout",
          "text": [
            "['lib', 'etc', 'lib32', 'opt', 'media', 'sys', 'libx32', 'usr', 'proc', 'mnt', 'tmp', 'root', 'dev', 'sbin', 'srv', 'boot', 'home', 'var', 'bin', 'lib64', 'run', '.dockerenv', 'datalab', 'tools', 'content', 'python-apt', 'NGC-DL-CONTAINER-LICENSE']\n"
          ]
        }
      ],
      "source": [
        "import os\n",
        "root_folder = '/'\n",
        "print(os.listdir(root_folder))\n"
      ]
    },
    {
      "cell_type": "code",
      "source": [
        "current_directory = os.getcwd()\n",
        "print(current_directory)"
      ],
      "metadata": {
        "colab": {
          "base_uri": "https://localhost:8080/"
        },
        "id": "Xt23kEu0I2Y5",
        "outputId": "dafdee08-8257-43e3-b467-666ab3826e05"
      },
      "execution_count": null,
      "outputs": [
        {
          "output_type": "stream",
          "name": "stdout",
          "text": [
            "/content\n"
          ]
        }
      ]
    },
    {
      "cell_type": "code",
      "source": [
        "!pip install rasterio"
      ],
      "metadata": {
        "id": "oApsBEBJKGif",
        "colab": {
          "base_uri": "https://localhost:8080/"
        },
        "outputId": "bb1d2e38-c49d-4dca-d01e-a9ca457f2121"
      },
      "execution_count": 1,
      "outputs": [
        {
          "output_type": "stream",
          "name": "stdout",
          "text": [
            "Looking in indexes: https://pypi.org/simple, https://us-python.pkg.dev/colab-wheels/public/simple/\n",
            "Collecting rasterio\n",
            "  Downloading rasterio-1.3.6-cp310-cp310-manylinux_2_17_x86_64.manylinux2014_x86_64.whl (20.0 MB)\n",
            "\u001b[2K     \u001b[90m━━━━━━━━━━━━━━━━━━━━━━━━━━━━━━━━━━━━━━━━\u001b[0m \u001b[32m20.0/20.0 MB\u001b[0m \u001b[31m38.1 MB/s\u001b[0m eta \u001b[36m0:00:00\u001b[0m\n",
            "\u001b[?25hCollecting affine (from rasterio)\n",
            "  Downloading affine-2.4.0-py3-none-any.whl (15 kB)\n",
            "Requirement already satisfied: attrs in /usr/local/lib/python3.10/dist-packages (from rasterio) (23.1.0)\n",
            "Requirement already satisfied: certifi in /usr/local/lib/python3.10/dist-packages (from rasterio) (2022.12.7)\n",
            "Requirement already satisfied: click>=4.0 in /usr/local/lib/python3.10/dist-packages (from rasterio) (8.1.3)\n",
            "Collecting cligj>=0.5 (from rasterio)\n",
            "  Downloading cligj-0.7.2-py3-none-any.whl (7.1 kB)\n",
            "Requirement already satisfied: numpy>=1.18 in /usr/local/lib/python3.10/dist-packages (from rasterio) (1.22.4)\n",
            "Collecting snuggs>=1.4.1 (from rasterio)\n",
            "  Downloading snuggs-1.4.7-py3-none-any.whl (5.4 kB)\n",
            "Collecting click-plugins (from rasterio)\n",
            "  Downloading click_plugins-1.1.1-py2.py3-none-any.whl (7.5 kB)\n",
            "Requirement already satisfied: setuptools in /usr/local/lib/python3.10/dist-packages (from rasterio) (67.7.2)\n",
            "Requirement already satisfied: pyparsing>=2.1.6 in /usr/local/lib/python3.10/dist-packages (from snuggs>=1.4.1->rasterio) (3.0.9)\n",
            "Installing collected packages: snuggs, cligj, click-plugins, affine, rasterio\n",
            "Successfully installed affine-2.4.0 click-plugins-1.1.1 cligj-0.7.2 rasterio-1.3.6 snuggs-1.4.7\n"
          ]
        }
      ]
    },
    {
      "cell_type": "code",
      "source": [
        "import rasterio\n",
        "import matplotlib.pyplot as plt\n",
        "from numpy import asarray\n",
        "\n",
        "# Open raster and plot\n",
        "raster_Defomation = rasterio.open(\"/content/Deformation_LSI.tif\").read(1)\n",
        "raster_Slope = rasterio.open(\"/content/Slope_LSI.tif\").read(1)\n",
        "raster_Rainfall= rasterio.open(\"/content/Rainfall_LSI.tif\").read(1)\n",
        "raster_Landuse = rasterio.open(\"/content/Landuse_LSI.tif\").read(1)\n",
        "raster_Aspect = rasterio.open(\"/content/Aspect_LSI.tif\").read(1)"
      ],
      "metadata": {
        "id": "MvnTu1Am4Nzs"
      },
      "execution_count": 3,
      "outputs": []
    },
    {
      "cell_type": "code",
      "source": [
        "parameter_set=[]\n",
        "img_Defomation=asarray(raster_Defomation)\n",
        "img_Aspect=asarray(raster_Aspect )\n",
        "img_Slope=asarray(raster_Slope)\n",
        "img_Rainfall=asarray(raster_Rainfall )\n",
        "img_Landuse=asarray(raster_Landuse)\n",
        "parameter_set.append(img_Slope)\n",
        "parameter_set.append(img_Aspect)\n",
        "parameter_set.append(img_Defomation)\n",
        "parameter_set.append(img_Rainfall)\n",
        "parameter_set.append(img_Landuse)"
      ],
      "metadata": {
        "id": "uJacaky14bK6"
      },
      "execution_count": 5,
      "outputs": []
    },
    {
      "cell_type": "code",
      "source": [
        "rows = len(parameter_set[2])\n",
        "cols = len(parameter_set[2][0])\n",
        "print(rows,cols)"
      ],
      "metadata": {
        "colab": {
          "base_uri": "https://localhost:8080/"
        },
        "id": "HcB91BQz7tl1",
        "outputId": "1098c600-be3b-4b40-aaa7-bb8159502592"
      },
      "execution_count": 6,
      "outputs": [
        {
          "output_type": "stream",
          "name": "stdout",
          "text": [
            "2744 3290\n"
          ]
        }
      ]
    },
    {
      "cell_type": "code",
      "source": [
        "new_probabilities={}\n",
        "parameter_dict=[]\n",
        "sope_dict={}\n",
        "aspect_dict={}\n",
        "defomation_dict={}\n",
        "rainfall_dict={}\n",
        "landuse_dict={}\n",
        "\n",
        "parameter_dict.append(sope_dict)\n",
        "parameter_dict.append(aspect_dict)\n",
        "parameter_dict.append(defomation_dict)\n",
        "parameter_dict.append(rainfall_dict)\n",
        "parameter_dict.append(landuse_dict)\n",
        "for num in range(len(parameter_dict)):\n",
        "  print(num)\n",
        "  rows = len(parameter_set[num])\n",
        "  cols = len(parameter_set[num][0])\n",
        "  for i in range(rows):\n",
        "    for j in range(cols):\n",
        "      if parameter_set[num][i,j] in parameter_dict[num]:\n",
        "        parameter_dict[num][parameter_set[num][i,j]]+=1\n",
        "      else:\n",
        "        parameter_dict[num][parameter_set[num][i,j]]= 1\n",
        "\n",
        "  sum=0\n",
        "  for i,j in parameter_dict[num].items():\n",
        "    if(i!=127 and i!=2147483647 and i!=65536 and i!=0):\n",
        "      sum=sum+j\n",
        "\n",
        "  for i,j in parameter_dict[num].items():\n",
        "    if(i!=127 and i!=2147483647 and i!=65536 and i!=0):\n",
        "      print(f\"{i} value parameter_dict {num}:{j}/{sum}\")\n",
        "      new_probabilities[f'{num}_{i}']=j/sum\n",
        "print(new_probabilities)"
      ],
      "metadata": {
        "colab": {
          "base_uri": "https://localhost:8080/"
        },
        "id": "MUAfIsOZ8GRH",
        "outputId": "b02b0014-11f2-4d69-b9f8-990fcfd6d256"
      },
      "execution_count": 7,
      "outputs": [
        {
          "output_type": "stream",
          "name": "stdout",
          "text": [
            "0\n",
            "2 value parameter_dict 0:130519/139543\n",
            "1 value parameter_dict 0:5987/139543\n",
            "4 value parameter_dict 0:3037/139543\n",
            "1\n",
            "1 value parameter_dict 1:69131/139543\n",
            "2 value parameter_dict 1:36110/139543\n",
            "3 value parameter_dict 1:34302/139543\n",
            "2\n",
            "3 value parameter_dict 2:72336/139543\n",
            "2 value parameter_dict 2:57672/139543\n",
            "1 value parameter_dict 2:9535/139543\n",
            "3\n",
            "3 value parameter_dict 3:26462/139543\n",
            "2 value parameter_dict 3:70924/139543\n",
            "1 value parameter_dict 3:42157/139543\n",
            "4\n",
            "2 value parameter_dict 4:41286/139543\n",
            "3 value parameter_dict 4:45033/139543\n",
            "4 value parameter_dict 4:37573/139543\n",
            "1 value parameter_dict 4:15651/139543\n",
            "{'0_2': 0.9353317615358706, '0_1': 0.04290433773102198, '0_4': 0.02176390073310736, '1_1': 0.4954100169840121, '1_2': 0.2587732813541346, '1_3': 0.24581670166185335, '2_3': 0.5183778476885261, '2_2': 0.41329196018431597, '2_1': 0.06833019212715793, '3_3': 0.18963330299620906, '3_2': 0.5082591029288464, '3_1': 0.30210759407494464, '4_2': 0.29586579047318745, '4_3': 0.32271772858545394, '4_4': 0.2692575048551343, '4_1': 0.11215897608622431}\n"
          ]
        }
      ]
    },
    {
      "cell_type": "code",
      "source": [
        "\n",
        "# Open raster and plot\n",
        "raster_Defomation_WRA = rasterio.open(\"/content/Deformation.tif\").read(1)\n",
        "raster_Aspect_WRA = rasterio.open(\"/content/Aspect.tif\").read(1)\n",
        "raster_Slope_WRA = rasterio.open(\"/content/Slope.tif\").read(1)\n",
        "raster_Rainfall_WRA = rasterio.open(\"/content/Rainfall.tif\").read(1)\n",
        "raster_Landuse_WRA = rasterio.open(\"/content/Landuse.tif\").read(1)"
      ],
      "metadata": {
        "id": "LbmhV6338T31"
      },
      "execution_count": 8,
      "outputs": []
    },
    {
      "cell_type": "code",
      "source": [
        "parameter_set=[]\n",
        "img_Defomation_WRA=asarray(raster_Defomation_WRA)\n",
        "img_Aspect_WRA=asarray(raster_Aspect_WRA)\n",
        "img_Slope_WRA=asarray(raster_Slope_WRA)\n",
        "img_Rainfall_WRA=asarray(raster_Rainfall_WRA)\n",
        "img_Landuse_WRA=asarray(raster_Landuse_WRA)\n",
        "parameter_set.append(raster_Slope_WRA)\n",
        "parameter_set.append(raster_Aspect_WRA)\n",
        "parameter_set.append(img_Defomation_WRA)\n",
        "parameter_set.append(img_Rainfall_WRA)\n",
        "parameter_set.append(img_Landuse_WRA)\n",
        "     "
      ],
      "metadata": {
        "id": "AVNcKwvo8kiK"
      },
      "execution_count": 9,
      "outputs": []
    },
    {
      "cell_type": "code",
      "source": [
        "d={}\n",
        "\n",
        "for i in range(rows):\n",
        "  for j in range(cols):\n",
        "    if img_Defomation_WRA[i,j] in d:\n",
        "      d[img_Defomation_WRA[i,j]]+=1\n",
        "    else:\n",
        "      d[img_Defomation_WRA[i,j]]= 1\n",
        "print(d)"
      ],
      "metadata": {
        "colab": {
          "base_uri": "https://localhost:8080/"
        },
        "id": "cBedRnzZ8qjn",
        "outputId": "ea70c5d8-9e14-424f-8273-9e5edcd93af9"
      },
      "execution_count": 10,
      "outputs": [
        {
          "output_type": "stream",
          "name": "stdout",
          "text": [
            "{127: 2436908, 2: 3272735, 3: 2120345, 1: 1197772}\n"
          ]
        }
      ]
    },
    {
      "cell_type": "code",
      "source": [
        "rows = len(parameter_set[0])\n",
        "cols = len(parameter_set[0][0])\n",
        "print(rows,cols)"
      ],
      "metadata": {
        "colab": {
          "base_uri": "https://localhost:8080/"
        },
        "id": "1rYCWl3c82B_",
        "outputId": "ceebad5c-a236-4b4e-a7d7-c6b24d584cfb"
      },
      "execution_count": 11,
      "outputs": [
        {
          "output_type": "stream",
          "name": "stdout",
          "text": [
            "3152 4557\n"
          ]
        }
      ]
    },
    {
      "cell_type": "code",
      "source": [
        "\n",
        "slope = [[0 for j in range(cols)] for i in range(rows)]\n",
        "aspect= [[0 for j in range(cols)] for i in range(rows)]\n",
        "defomation=[[0 for j in range(cols)] for i in range(rows)]\n",
        "rainfall= [[0 for j in range(cols)] for i in range(rows)]\n",
        "landuse=[[0 for j in range(cols)] for i in range(rows)]\n",
        "for layer_index in range(len(parameter_set)):\n",
        "    for i in range(rows):\n",
        "        for j in range(cols):\n",
        "            x = f\"{layer_index}_{parameter_set[layer_index][i][j]}\"\n",
        "            if x in new_probabilities.keys():\n",
        "              if layer_index==0:\n",
        "                slope[i][j] = new_probabilities[x]\n",
        "              elif layer_index==1:\n",
        "                aspect[i][j] = new_probabilities[x]\n",
        "              elif layer_index==2:\n",
        "                defomation[i][j] = new_probabilities[x]\n",
        "              elif layer_index==3:\n",
        "                rainfall[i][j] = new_probabilities[x]               \n",
        "              elif layer_index==4:\n",
        "                landuse[i][j] = new_probabilities[x]\n",
        "\n",
        "final_array=[[0 for j in range(cols)] for i in range(rows)]\n",
        "for i in range(rows):\n",
        "  for j in range(cols):\n",
        "    final_array[i][j]=slope[i][j]*aspect[i][j]*defomation[i][j]*rainfall[i][j]*landuse[i][j]"
      ],
      "metadata": {
        "id": "dJYiB3Ul-lLm"
      },
      "execution_count": 12,
      "outputs": []
    },
    {
      "cell_type": "code",
      "source": [
        "import numpy as np\n",
        "from PIL import Image"
      ],
      "metadata": {
        "id": "ttWgs-5U-8r3"
      },
      "execution_count": 13,
      "outputs": []
    },
    {
      "cell_type": "code",
      "source": [
        "min_value = np.min(final_array)\n",
        "max_value = np.max(final_array)\n",
        "# Define categories array with zeros of shape same as final_array\n",
        "categories = np.zeros_like(final_array)\n",
        "# Categorize the values based on the min and max values\n",
        "for i in range(rows):\n",
        "    for j in range(cols):\n",
        "        if final_array[i][j] < min_value + (max_value - min_value) / 4:\n",
        "            categories[i][j] = 1\n",
        "        elif final_array[i][j] < min_value + (max_value - min_value) / 2:\n",
        "            categories[i][j] = 2\n",
        "        elif final_array[i][j] < min_value + (max_value - min_value) * 3 / 4:\n",
        "            categories[i][j] = 3\n",
        "        else:\n",
        "            categories[i][j] = 4\n",
        "\n",
        "# Create a colormap for the categories\n",
        "colormap = {\n",
        "    1: (0, 0, 255),   # blue\n",
        "    2: (255, 255, 255), #black\n",
        "    3: (255, 255, 0),   # yellow\n",
        "    4: (255, 0, 0)    # red\n",
        "}\n",
        "\n",
        "# Create an image from the categories\n",
        "image_data = np.zeros((rows, cols, 3), dtype=np.uint8)\n",
        "for i in range(rows):\n",
        "    for j in range(cols):\n",
        "        image_data[i][j] = colormap[categories[i][j]]\n",
        "image = Image.fromarray(image_data)\n",
        "\n",
        "image.save(\"categories.tif\")"
      ],
      "metadata": {
        "id": "CdDfGht5A94O"
      },
      "execution_count": 15,
      "outputs": []
    },
    {
      "cell_type": "code",
      "source": [
        "# Input latitude and longitude\n",
        "latitude = float(input(\"Enter the latitude: \"))\n",
        "longitude = float(input(\"Enter the longitude: \"))\n",
        "\n",
        "# Convert latitude and longitude to pixel coordinates\n",
        "transform = rasterio.open(\"/content/Deformation_LSI.tif\").transform\n",
        "x_coord, y_coord = rasterio.transform.rowcol(transform, longitude, latitude)\n",
        "\n",
        "# Check if the coordinates are within the valid range\n",
        "rows, cols = final_array.shape\n",
        "if x_coord < 0 or x_coord >= cols or y_coord < 0 or y_coord >= rows:\n",
        "    print(\"Error: Specified coordinates are outside the raster image bounds.\")\n",
        "else:\n",
        "    # Get the probabilistic value at the specified coordinates\n",
        "    probabilistic_value = final_array[y_coord][x_coord]\n",
        "\n",
        "    # Determine the color based on the probabilistic value\n",
        "    if probabilistic_value < min_value + (max_value - min_value) / 4:\n",
        "        color = colormap[1]\n",
        "    elif probabilistic_value < min_value + (max_value - min_value) / 2:\n",
        "        color = colormap[2]\n",
        "    elif probabilistic_value < min_value + (max_value - min_value) * 3 / 4:\n",
        "        color = colormap[3]\n",
        "    else:\n",
        "        color = colormap[4]\n",
        "\n",
        "    # Print the color associated with the probabilistic value\n",
        "    print(\"Color:\", color)"
      ],
      "metadata": {
        "id": "VcgKj-y5TWu0"
      },
      "execution_count": null,
      "outputs": []
    },
    {
      "cell_type": "code",
      "source": [],
      "metadata": {
        "id": "AfFfL63HV5Mv"
      },
      "execution_count": null,
      "outputs": []
    }
  ]
}